{
 "cells": [
  {
   "cell_type": "code",
   "execution_count": null,
   "metadata": {},
   "outputs": [],
   "source": [
    "import pandas as pd"
   ]
  },
  {
   "cell_type": "code",
   "execution_count": null,
   "metadata": {},
   "outputs": [],
   "source": [
    "df =  pd.read_parquet('profiles.parquet')"
   ]
  },
  {
   "cell_type": "code",
   "execution_count": null,
   "metadata": {},
   "outputs": [],
   "source": [
    "df"
   ]
  },
  {
   "cell_type": "code",
   "execution_count": null,
   "metadata": {},
   "outputs": [],
   "source": [
    "import requests"
   ]
  },
  {
   "cell_type": "code",
   "execution_count": null,
   "metadata": {},
   "outputs": [],
   "source": [
    "response = requests.get('http://localhost:8085/health-check')\n",
    "print(response.status_code)\n",
    "print(response.json())"
   ]
  },
  {
   "cell_type": "code",
   "execution_count": null,
   "metadata": {},
   "outputs": [],
   "source": [
    "data_dicts = df.to_dict(orient='records')"
   ]
  },
  {
   "cell_type": "code",
   "execution_count": null,
   "metadata": {},
   "outputs": [],
   "source": [
    "for ix, d in enumerate(data_dicts):\n",
    "    register_url_base = 'http://localhost:8085/user/register'\n",
    "    response = requests.post(register_url_base, json=d)\n",
    "    status = response.status_code\n",
    "    if status == 200:\n",
    "        print(ix, response.status_code)\n",
    "    else:\n",
    "        print(ix, response.status_code, response.json())"
   ]
  },
  {
   "cell_type": "code",
   "execution_count": null,
   "metadata": {},
   "outputs": [],
   "source": [
    "# import asyncio\n",
    "# from asyncio_throttle import Throttler\n",
    "# import aiohttp\n",
    "\n",
    "# throttler = Throttler(rate_limit=5, period=1)\n",
    "\n",
    "# counter = 0\n",
    "\n",
    "# async def task_fn(d, aiohttp_session):\n",
    "#     global counter\n",
    "#     register_url_base = 'http://localhost:8085/user/register'\n",
    "    \n",
    "#     async with aiohttp_session.post(register_url_base, json=d) as response:\n",
    "#         counter += 1\n",
    "#         status = response.status\n",
    "#         content = await response.json()\n",
    "#         print(counter, status, content)\n",
    "#     return response\n",
    "\n",
    "\n",
    "# async with throttler:\n",
    "#     async with aiohttp.ClientSession() as aiohttp_session:\n",
    "#         tasks = [task_fn(d, aiohttp_session) for d in data_dicts]\n",
    "#         await asyncio.gather(*tasks)"
   ]
  },
  {
   "cell_type": "code",
   "execution_count": null,
   "metadata": {},
   "outputs": [],
   "source": []
  }
 ],
 "metadata": {
  "kernelspec": {
   "display_name": ".venv",
   "language": "python",
   "name": "python3"
  },
  "language_info": {
   "codemirror_mode": {
    "name": "ipython",
    "version": 3
   },
   "file_extension": ".py",
   "mimetype": "text/x-python",
   "name": "python",
   "nbconvert_exporter": "python",
   "pygments_lexer": "ipython3",
   "version": "3.10.9"
  },
  "orig_nbformat": 4
 },
 "nbformat": 4,
 "nbformat_minor": 2
}
