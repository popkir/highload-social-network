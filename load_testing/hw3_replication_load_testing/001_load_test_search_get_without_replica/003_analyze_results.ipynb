{
 "cells": [
  {
   "cell_type": "code",
   "execution_count": 2,
   "metadata": {},
   "outputs": [],
   "source": [
    "import pandas as pd\n",
    "import os\n",
    "import matplotlib.pyplot as plt\n",
    "import seaborn as sns\n",
    "import json\n",
    "\n",
    "def parquet_dir_to_df(dirpath):\n",
    "    df = pd.DataFrame()\n",
    "    for filename in sorted(os.listdir(dirpath)):\n",
    "        if filename.endswith('.parquet') or filename.endswith('.parquet.gzip'):\n",
    "            filepath = os.path.join(dirpath, filename)\n",
    "            df = df.append(pd.read_parquet(filepath))\n",
    "    return df"
   ]
  },
  {
   "attachments": {},
   "cell_type": "markdown",
   "metadata": {},
   "source": [
    "# 1. Pre-process docker stats"
   ]
  },
  {
   "cell_type": "code",
   "execution_count": 3,
   "metadata": {},
   "outputs": [],
   "source": [
    "docker_stats_json_path = 'docker_stats.json'\n",
    "container_rename_dict = {'/social-network-backend': 'backend', '/social-network-postgres': 'db-master'}\n"
   ]
  },
  {
   "cell_type": "code",
   "execution_count": 4,
   "metadata": {},
   "outputs": [],
   "source": [
    "docker_stats_list = json.load(open(docker_stats_json_path, 'r'))\n",
    "docker_stats_df = pd.DataFrame(docker_stats_list)\n",
    "\n",
    "docker_stats_df = docker_stats_df[docker_stats_df['name'].isin(container_rename_dict)]\n",
    "docker_stats_df['name'] = docker_stats_df['name'].map(container_rename_dict)\n",
    "\n",
    "docker_stats_df['Timestamp'] = (pd.to_datetime(docker_stats_df['read']) - pd.Timestamp(\"1970-01-01\", tz='utc')) // pd.Timedelta('1s')\n",
    "\n",
    "docker_stats_df['cpu'] = docker_stats_df['cpu_stats'].apply(lambda x: x['cpu_usage']['total_usage'])\n",
    "\n",
    "docker_stats_df['ram'] = docker_stats_df['memory_stats'].apply(lambda x: x['usage'])\n",
    "\n",
    "docker_stats_df['net_rx_bytes'] = docker_stats_df['networks'].apply(lambda x: x['eth0']['rx_bytes'])\n",
    "docker_stats_df['net_tx_bytes'] = docker_stats_df['networks'].apply(lambda x: x['eth0']['tx_bytes'])\n",
    "\n",
    "docker_stats_df['disk_read'] = docker_stats_df['blkio_stats'].apply(lambda x: [y['value'] for y in x['io_service_bytes_recursive'] if y['op'] == 'read'][0])\n",
    "docker_stats_df['disk_write'] = docker_stats_df['blkio_stats'].apply(lambda x: [y['value'] for y in x['io_service_bytes_recursive'] if y['op'] == 'write'][0])\n",
    "\n",
    "\n",
    "drop_cols = ['read', 'preread', 'num_procs', 'storage_stats', 'pids_stats', 'precpu_stats', 'id', 'blkio_stats', 'cpu_stats', 'memory_stats', 'networks']\n",
    "docker_stats_df.drop(columns=drop_cols, inplace=True)"
   ]
  },
  {
   "cell_type": "code",
   "execution_count": 5,
   "metadata": {},
   "outputs": [
    {
     "data": {
      "text/html": [
       "<div>\n",
       "<style scoped>\n",
       "    .dataframe tbody tr th:only-of-type {\n",
       "        vertical-align: middle;\n",
       "    }\n",
       "\n",
       "    .dataframe tbody tr th {\n",
       "        vertical-align: top;\n",
       "    }\n",
       "\n",
       "    .dataframe thead th {\n",
       "        text-align: right;\n",
       "    }\n",
       "</style>\n",
       "<table border=\"1\" class=\"dataframe\">\n",
       "  <thead>\n",
       "    <tr style=\"text-align: right;\">\n",
       "      <th></th>\n",
       "      <th>name</th>\n",
       "      <th>Timestamp</th>\n",
       "      <th>cpu</th>\n",
       "      <th>ram</th>\n",
       "      <th>net_rx_bytes</th>\n",
       "      <th>net_tx_bytes</th>\n",
       "      <th>disk_read</th>\n",
       "      <th>disk_write</th>\n",
       "    </tr>\n",
       "  </thead>\n",
       "  <tbody>\n",
       "    <tr>\n",
       "      <th>0</th>\n",
       "      <td>backend</td>\n",
       "      <td>1688813051</td>\n",
       "      <td>482901199000</td>\n",
       "      <td>120459264</td>\n",
       "      <td>304764744</td>\n",
       "      <td>239306628</td>\n",
       "      <td>41947136</td>\n",
       "      <td>0</td>\n",
       "    </tr>\n",
       "    <tr>\n",
       "      <th>4</th>\n",
       "      <td>db-master</td>\n",
       "      <td>1688813058</td>\n",
       "      <td>38671171000</td>\n",
       "      <td>750620672</td>\n",
       "      <td>46039291</td>\n",
       "      <td>280149512</td>\n",
       "      <td>590016512</td>\n",
       "      <td>5230592</td>\n",
       "    </tr>\n",
       "    <tr>\n",
       "      <th>5</th>\n",
       "      <td>backend</td>\n",
       "      <td>1688813060</td>\n",
       "      <td>485956518000</td>\n",
       "      <td>120434688</td>\n",
       "      <td>304764744</td>\n",
       "      <td>239306628</td>\n",
       "      <td>41947136</td>\n",
       "      <td>0</td>\n",
       "    </tr>\n",
       "    <tr>\n",
       "      <th>9</th>\n",
       "      <td>db-master</td>\n",
       "      <td>1688813068</td>\n",
       "      <td>38708476000</td>\n",
       "      <td>750616576</td>\n",
       "      <td>46053151</td>\n",
       "      <td>280221201</td>\n",
       "      <td>590016512</td>\n",
       "      <td>5271552</td>\n",
       "    </tr>\n",
       "    <tr>\n",
       "      <th>10</th>\n",
       "      <td>backend</td>\n",
       "      <td>1688813070</td>\n",
       "      <td>489473255000</td>\n",
       "      <td>120438784</td>\n",
       "      <td>304764744</td>\n",
       "      <td>239306628</td>\n",
       "      <td>41947136</td>\n",
       "      <td>0</td>\n",
       "    </tr>\n",
       "    <tr>\n",
       "      <th>...</th>\n",
       "      <td>...</td>\n",
       "      <td>...</td>\n",
       "      <td>...</td>\n",
       "      <td>...</td>\n",
       "      <td>...</td>\n",
       "      <td>...</td>\n",
       "      <td>...</td>\n",
       "      <td>...</td>\n",
       "    </tr>\n",
       "    <tr>\n",
       "      <th>414</th>\n",
       "      <td>db-master</td>\n",
       "      <td>1688813874</td>\n",
       "      <td>85024771000</td>\n",
       "      <td>753156096</td>\n",
       "      <td>104749820</td>\n",
       "      <td>628884019</td>\n",
       "      <td>590016512</td>\n",
       "      <td>8941568</td>\n",
       "    </tr>\n",
       "    <tr>\n",
       "      <th>415</th>\n",
       "      <td>backend</td>\n",
       "      <td>1688813876</td>\n",
       "      <td>894236143000</td>\n",
       "      <td>137113600</td>\n",
       "      <td>691059147</td>\n",
       "      <td>542920600</td>\n",
       "      <td>41947136</td>\n",
       "      <td>0</td>\n",
       "    </tr>\n",
       "    <tr>\n",
       "      <th>419</th>\n",
       "      <td>db-master</td>\n",
       "      <td>1688813884</td>\n",
       "      <td>85057731000</td>\n",
       "      <td>753156096</td>\n",
       "      <td>104764340</td>\n",
       "      <td>628955788</td>\n",
       "      <td>590016512</td>\n",
       "      <td>9011200</td>\n",
       "    </tr>\n",
       "    <tr>\n",
       "      <th>420</th>\n",
       "      <td>backend</td>\n",
       "      <td>1688813886</td>\n",
       "      <td>897597220000</td>\n",
       "      <td>137109504</td>\n",
       "      <td>691059147</td>\n",
       "      <td>542920600</td>\n",
       "      <td>41947136</td>\n",
       "      <td>0</td>\n",
       "    </tr>\n",
       "    <tr>\n",
       "      <th>424</th>\n",
       "      <td>db-master</td>\n",
       "      <td>1688813894</td>\n",
       "      <td>85071975000</td>\n",
       "      <td>753119232</td>\n",
       "      <td>104778596</td>\n",
       "      <td>629027571</td>\n",
       "      <td>590016512</td>\n",
       "      <td>9052160</td>\n",
       "    </tr>\n",
       "  </tbody>\n",
       "</table>\n",
       "<p>170 rows × 8 columns</p>\n",
       "</div>"
      ],
      "text/plain": [
       "          name   Timestamp           cpu        ram  net_rx_bytes  \\\n",
       "0      backend  1688813051  482901199000  120459264     304764744   \n",
       "4    db-master  1688813058   38671171000  750620672      46039291   \n",
       "5      backend  1688813060  485956518000  120434688     304764744   \n",
       "9    db-master  1688813068   38708476000  750616576      46053151   \n",
       "10     backend  1688813070  489473255000  120438784     304764744   \n",
       "..         ...         ...           ...        ...           ...   \n",
       "414  db-master  1688813874   85024771000  753156096     104749820   \n",
       "415    backend  1688813876  894236143000  137113600     691059147   \n",
       "419  db-master  1688813884   85057731000  753156096     104764340   \n",
       "420    backend  1688813886  897597220000  137109504     691059147   \n",
       "424  db-master  1688813894   85071975000  753119232     104778596   \n",
       "\n",
       "     net_tx_bytes  disk_read  disk_write  \n",
       "0       239306628   41947136           0  \n",
       "4       280149512  590016512     5230592  \n",
       "5       239306628   41947136           0  \n",
       "9       280221201  590016512     5271552  \n",
       "10      239306628   41947136           0  \n",
       "..            ...        ...         ...  \n",
       "414     628884019  590016512     8941568  \n",
       "415     542920600   41947136           0  \n",
       "419     628955788  590016512     9011200  \n",
       "420     542920600   41947136           0  \n",
       "424     629027571  590016512     9052160  \n",
       "\n",
       "[170 rows x 8 columns]"
      ]
     },
     "execution_count": 5,
     "metadata": {},
     "output_type": "execute_result"
    }
   ],
   "source": [
    "docker_stats_df"
   ]
  },
  {
   "attachments": {},
   "cell_type": "markdown",
   "metadata": {},
   "source": [
    "# 2. Pre-process locust stats"
   ]
  },
  {
   "cell_type": "code",
   "execution_count": 6,
   "metadata": {},
   "outputs": [],
   "source": [
    "locust_stats_parquet_dir = 'loadtest_stats_history'"
   ]
  },
  {
   "cell_type": "code",
   "execution_count": 7,
   "metadata": {},
   "outputs": [
    {
     "name": "stderr",
     "output_type": "stream",
     "text": [
      "/var/folders/cv/_5p_r3x521s1plhh5ghyn8340000gn/T/ipykernel_70776/155342514.py:12: FutureWarning: The frame.append method is deprecated and will be removed from pandas in a future version. Use pandas.concat instead.\n",
      "  df = df.append(pd.read_parquet(filepath))\n",
      "/var/folders/cv/_5p_r3x521s1plhh5ghyn8340000gn/T/ipykernel_70776/155342514.py:12: FutureWarning: The frame.append method is deprecated and will be removed from pandas in a future version. Use pandas.concat instead.\n",
      "  df = df.append(pd.read_parquet(filepath))\n",
      "/var/folders/cv/_5p_r3x521s1plhh5ghyn8340000gn/T/ipykernel_70776/155342514.py:12: FutureWarning: The frame.append method is deprecated and will be removed from pandas in a future version. Use pandas.concat instead.\n",
      "  df = df.append(pd.read_parquet(filepath))\n",
      "/var/folders/cv/_5p_r3x521s1plhh5ghyn8340000gn/T/ipykernel_70776/155342514.py:12: FutureWarning: The frame.append method is deprecated and will be removed from pandas in a future version. Use pandas.concat instead.\n",
      "  df = df.append(pd.read_parquet(filepath))\n",
      "/var/folders/cv/_5p_r3x521s1plhh5ghyn8340000gn/T/ipykernel_70776/155342514.py:12: FutureWarning: The frame.append method is deprecated and will be removed from pandas in a future version. Use pandas.concat instead.\n",
      "  df = df.append(pd.read_parquet(filepath))\n",
      "/var/folders/cv/_5p_r3x521s1plhh5ghyn8340000gn/T/ipykernel_70776/155342514.py:12: FutureWarning: The frame.append method is deprecated and will be removed from pandas in a future version. Use pandas.concat instead.\n",
      "  df = df.append(pd.read_parquet(filepath))\n",
      "/var/folders/cv/_5p_r3x521s1plhh5ghyn8340000gn/T/ipykernel_70776/155342514.py:12: FutureWarning: The frame.append method is deprecated and will be removed from pandas in a future version. Use pandas.concat instead.\n",
      "  df = df.append(pd.read_parquet(filepath))\n",
      "/var/folders/cv/_5p_r3x521s1plhh5ghyn8340000gn/T/ipykernel_70776/155342514.py:12: FutureWarning: The frame.append method is deprecated and will be removed from pandas in a future version. Use pandas.concat instead.\n",
      "  df = df.append(pd.read_parquet(filepath))\n",
      "/var/folders/cv/_5p_r3x521s1plhh5ghyn8340000gn/T/ipykernel_70776/155342514.py:12: FutureWarning: The frame.append method is deprecated and will be removed from pandas in a future version. Use pandas.concat instead.\n",
      "  df = df.append(pd.read_parquet(filepath))\n"
     ]
    }
   ],
   "source": [
    "load_test_stats_df = parquet_dir_to_df(locust_stats_parquet_dir)\n",
    "\n",
    "load_test_stats_df = load_test_stats_df[load_test_stats_df['User Count'] != 0]\n",
    "load_test_stats_df = load_test_stats_df[load_test_stats_df['op_type'] == 'agg']"
   ]
  },
  {
   "cell_type": "code",
   "execution_count": 8,
   "metadata": {},
   "outputs": [
    {
     "data": {
      "text/plain": [
       "{1: 1688813126, 10: 1688813307, 100: 1688813487, 1000: 1688813669}"
      ]
     },
     "execution_count": 8,
     "metadata": {},
     "output_type": "execute_result"
    }
   ],
   "source": [
    "phase_starts = load_test_stats_df.groupby('User Count')['Timestamp'].min().reset_index()\n",
    "phase_starts_dict = dict(zip(phase_starts['User Count'], phase_starts['Timestamp']))\n",
    "phase_starts_dict"
   ]
  },
  {
   "cell_type": "code",
   "execution_count": 9,
   "metadata": {},
   "outputs": [
    {
     "data": {
      "text/plain": [
       "{1: 1688813186, 10: 1688813367, 100: 1688813547, 1000: 1688813729}"
      ]
     },
     "execution_count": 9,
     "metadata": {},
     "output_type": "execute_result"
    }
   ],
   "source": [
    "phase_starts_plus_60_dict = {k: v + 60 for k, v in phase_starts_dict.items()}\n",
    "phase_starts_plus_60_dict"
   ]
  },
  {
   "cell_type": "code",
   "execution_count": 10,
   "metadata": {},
   "outputs": [
    {
     "data": {
      "text/plain": [
       "{1: (1688813186, 1688813307),\n",
       " 10: (1688813367, 1688813487),\n",
       " 100: (1688813547, 1688813669),\n",
       " 1000: (1688813729, 1688813845)}"
      ]
     },
     "execution_count": 10,
     "metadata": {},
     "output_type": "execute_result"
    }
   ],
   "source": [
    "phases = sorted(phase_starts_dict.keys())\n",
    "starts = [phase_starts_dict[k] for k in phases]\n",
    "true_starts = [phase_starts_plus_60_dict[k] for k in phases]\n",
    "ends = [phase_starts_dict[k] for k in phases[1:]] + [load_test_stats_df['Timestamp'].max()]\n",
    "phase_interval_dict = dict(zip(phases, list(zip(true_starts, ends))))\n",
    "phase_interval_dict"
   ]
  },
  {
   "cell_type": "code",
   "execution_count": 11,
   "metadata": {},
   "outputs": [],
   "source": [
    "drop_cols = ['Type', '66%', '75%', '80%', '90%', '98%', '99%', '99.9%', '99.99%', '100%',\n",
    "             'Total Failure Count', 'Total Median Response Time', 'Total Average Response Time',\n",
    "             'Total Min Response Time', 'Total Max Response Time', 'Total Average Content Size',\n",
    "             'is_agg', 'is_user_get', 'is_user_search', 'get_id', 'search_fname', 'search_lname',\n",
    "             'op_type', 'Failures/s']\n",
    "\n",
    "load_test_stats_df.drop(columns=drop_cols, inplace=True)"
   ]
  },
  {
   "cell_type": "code",
   "execution_count": 12,
   "metadata": {},
   "outputs": [
    {
     "data": {
      "text/plain": [
       "1       153\n",
       "10       91\n",
       "100      60\n",
       "1000     45\n",
       "Name: User Count, dtype: int64"
      ]
     },
     "execution_count": 12,
     "metadata": {},
     "output_type": "execute_result"
    }
   ],
   "source": [
    "load_test_stats_df['User Count'].value_counts(dropna=False)"
   ]
  },
  {
   "cell_type": "code",
   "execution_count": 13,
   "metadata": {},
   "outputs": [],
   "source": [
    "load_test_stats_df['cutoff_time'] = load_test_stats_df['User Count'].map(phase_starts_plus_60_dict)\n",
    "load_test_stats_df = load_test_stats_df[load_test_stats_df['Timestamp'] >= load_test_stats_df['cutoff_time']]\n",
    "load_test_stats_df.drop(columns=['cutoff_time'], inplace=True)"
   ]
  },
  {
   "cell_type": "code",
   "execution_count": 14,
   "metadata": {},
   "outputs": [
    {
     "data": {
      "text/html": [
       "<div>\n",
       "<style scoped>\n",
       "    .dataframe tbody tr th:only-of-type {\n",
       "        vertical-align: middle;\n",
       "    }\n",
       "\n",
       "    .dataframe tbody tr th {\n",
       "        vertical-align: top;\n",
       "    }\n",
       "\n",
       "    .dataframe thead th {\n",
       "        text-align: right;\n",
       "    }\n",
       "</style>\n",
       "<table border=\"1\" class=\"dataframe\">\n",
       "  <thead>\n",
       "    <tr style=\"text-align: right;\">\n",
       "      <th></th>\n",
       "      <th>Timestamp</th>\n",
       "      <th>User Count</th>\n",
       "      <th>Requests/s</th>\n",
       "      <th>50%</th>\n",
       "      <th>95%</th>\n",
       "      <th>Total Request Count</th>\n",
       "    </tr>\n",
       "  </thead>\n",
       "  <tbody>\n",
       "    <tr>\n",
       "      <th>86896</th>\n",
       "      <td>1688813186</td>\n",
       "      <td>1</td>\n",
       "      <td>49.9</td>\n",
       "      <td>5.0</td>\n",
       "      <td>47.0</td>\n",
       "      <td>3111</td>\n",
       "    </tr>\n",
       "    <tr>\n",
       "      <th>90030</th>\n",
       "      <td>1688813187</td>\n",
       "      <td>1</td>\n",
       "      <td>50.1</td>\n",
       "      <td>5.0</td>\n",
       "      <td>47.0</td>\n",
       "      <td>3159</td>\n",
       "    </tr>\n",
       "    <tr>\n",
       "      <th>93220</th>\n",
       "      <td>1688813188</td>\n",
       "      <td>1</td>\n",
       "      <td>49.6</td>\n",
       "      <td>5.0</td>\n",
       "      <td>47.0</td>\n",
       "      <td>3216</td>\n",
       "    </tr>\n",
       "    <tr>\n",
       "      <th>96467</th>\n",
       "      <td>1688813189</td>\n",
       "      <td>1</td>\n",
       "      <td>49.1</td>\n",
       "      <td>5.0</td>\n",
       "      <td>47.0</td>\n",
       "      <td>3273</td>\n",
       "    </tr>\n",
       "    <tr>\n",
       "      <th>99766</th>\n",
       "      <td>1688813190</td>\n",
       "      <td>1</td>\n",
       "      <td>48.8</td>\n",
       "      <td>5.0</td>\n",
       "      <td>47.0</td>\n",
       "      <td>3327</td>\n",
       "    </tr>\n",
       "    <tr>\n",
       "      <th>...</th>\n",
       "      <td>...</td>\n",
       "      <td>...</td>\n",
       "      <td>...</td>\n",
       "      <td>...</td>\n",
       "      <td>...</td>\n",
       "      <td>...</td>\n",
       "    </tr>\n",
       "    <tr>\n",
       "      <th>8398728</th>\n",
       "      <td>1688813827</td>\n",
       "      <td>1000</td>\n",
       "      <td>127.7</td>\n",
       "      <td>9300.0</td>\n",
       "      <td>12000.0</td>\n",
       "      <td>90045</td>\n",
       "    </tr>\n",
       "    <tr>\n",
       "      <th>8466978</th>\n",
       "      <td>1688813832</td>\n",
       "      <td>1000</td>\n",
       "      <td>127.7</td>\n",
       "      <td>12000.0</td>\n",
       "      <td>12000.0</td>\n",
       "      <td>90045</td>\n",
       "    </tr>\n",
       "    <tr>\n",
       "      <th>8535353</th>\n",
       "      <td>1688813836</td>\n",
       "      <td>1000</td>\n",
       "      <td>102.5</td>\n",
       "      <td>9000.0</td>\n",
       "      <td>12000.0</td>\n",
       "      <td>90257</td>\n",
       "    </tr>\n",
       "    <tr>\n",
       "      <th>8604271</th>\n",
       "      <td>1688813840</td>\n",
       "      <td>1000</td>\n",
       "      <td>21.2</td>\n",
       "      <td>9400.0</td>\n",
       "      <td>12000.0</td>\n",
       "      <td>91250</td>\n",
       "    </tr>\n",
       "    <tr>\n",
       "      <th>8673189</th>\n",
       "      <td>1688813845</td>\n",
       "      <td>1000</td>\n",
       "      <td>21.2</td>\n",
       "      <td>12000.0</td>\n",
       "      <td>12000.0</td>\n",
       "      <td>91250</td>\n",
       "    </tr>\n",
       "  </tbody>\n",
       "</table>\n",
       "<p>218 rows × 6 columns</p>\n",
       "</div>"
      ],
      "text/plain": [
       "          Timestamp  User Count  Requests/s      50%      95%  \\\n",
       "86896    1688813186           1        49.9      5.0     47.0   \n",
       "90030    1688813187           1        50.1      5.0     47.0   \n",
       "93220    1688813188           1        49.6      5.0     47.0   \n",
       "96467    1688813189           1        49.1      5.0     47.0   \n",
       "99766    1688813190           1        48.8      5.0     47.0   \n",
       "...             ...         ...         ...      ...      ...   \n",
       "8398728  1688813827        1000       127.7   9300.0  12000.0   \n",
       "8466978  1688813832        1000       127.7  12000.0  12000.0   \n",
       "8535353  1688813836        1000       102.5   9000.0  12000.0   \n",
       "8604271  1688813840        1000        21.2   9400.0  12000.0   \n",
       "8673189  1688813845        1000        21.2  12000.0  12000.0   \n",
       "\n",
       "         Total Request Count  \n",
       "86896                   3111  \n",
       "90030                   3159  \n",
       "93220                   3216  \n",
       "96467                   3273  \n",
       "99766                   3327  \n",
       "...                      ...  \n",
       "8398728                90045  \n",
       "8466978                90045  \n",
       "8535353                90257  \n",
       "8604271                91250  \n",
       "8673189                91250  \n",
       "\n",
       "[218 rows x 6 columns]"
      ]
     },
     "execution_count": 14,
     "metadata": {},
     "output_type": "execute_result"
    }
   ],
   "source": [
    "load_test_stats_df"
   ]
  },
  {
   "attachments": {},
   "cell_type": "markdown",
   "metadata": {},
   "source": [
    "# 3. Process docker stats"
   ]
  },
  {
   "cell_type": "code",
   "execution_count": 15,
   "metadata": {},
   "outputs": [],
   "source": [
    "def get_phase(timestamp, phase_interval_dict):\n",
    "    for phase, interval in phase_interval_dict.items():\n",
    "        if interval[0] <= timestamp <= interval[1]:\n",
    "            return phase\n",
    "    return None"
   ]
  },
  {
   "cell_type": "code",
   "execution_count": 16,
   "metadata": {},
   "outputs": [],
   "source": [
    "docker_stats_df['User Count'] = docker_stats_df['Timestamp'].apply(lambda x: get_phase(x, phase_interval_dict))\n",
    "docker_stats_df.dropna(inplace=True, subset=['User Count'])\n",
    "docker_stats_df['User Count'] = docker_stats_df['User Count'].astype(int)"
   ]
  },
  {
   "cell_type": "code",
   "execution_count": 17,
   "metadata": {},
   "outputs": [
    {
     "data": {
      "text/html": [
       "<div>\n",
       "<style scoped>\n",
       "    .dataframe tbody tr th:only-of-type {\n",
       "        vertical-align: middle;\n",
       "    }\n",
       "\n",
       "    .dataframe tbody tr th {\n",
       "        vertical-align: top;\n",
       "    }\n",
       "\n",
       "    .dataframe thead th {\n",
       "        text-align: right;\n",
       "    }\n",
       "</style>\n",
       "<table border=\"1\" class=\"dataframe\">\n",
       "  <thead>\n",
       "    <tr style=\"text-align: right;\">\n",
       "      <th></th>\n",
       "      <th>name</th>\n",
       "      <th>Timestamp</th>\n",
       "      <th>cpu</th>\n",
       "      <th>ram</th>\n",
       "      <th>net_rx_bytes</th>\n",
       "      <th>net_tx_bytes</th>\n",
       "      <th>disk_read</th>\n",
       "      <th>disk_write</th>\n",
       "      <th>User Count</th>\n",
       "    </tr>\n",
       "  </thead>\n",
       "  <tbody>\n",
       "    <tr>\n",
       "      <th>69</th>\n",
       "      <td>db-master</td>\n",
       "      <td>1688813188</td>\n",
       "      <td>41618165000</td>\n",
       "      <td>752668672</td>\n",
       "      <td>48418505</td>\n",
       "      <td>298110555</td>\n",
       "      <td>590016512</td>\n",
       "      <td>5820416</td>\n",
       "      <td>1</td>\n",
       "    </tr>\n",
       "    <tr>\n",
       "      <th>70</th>\n",
       "      <td>backend</td>\n",
       "      <td>1688813190</td>\n",
       "      <td>536699157000</td>\n",
       "      <td>130052096</td>\n",
       "      <td>323673419</td>\n",
       "      <td>254360898</td>\n",
       "      <td>41947136</td>\n",
       "      <td>0</td>\n",
       "      <td>1</td>\n",
       "    </tr>\n",
       "    <tr>\n",
       "      <th>74</th>\n",
       "      <td>db-master</td>\n",
       "      <td>1688813199</td>\n",
       "      <td>41934669000</td>\n",
       "      <td>752672768</td>\n",
       "      <td>48767145</td>\n",
       "      <td>300135455</td>\n",
       "      <td>590016512</td>\n",
       "      <td>5861376</td>\n",
       "      <td>1</td>\n",
       "    </tr>\n",
       "    <tr>\n",
       "      <th>75</th>\n",
       "      <td>backend</td>\n",
       "      <td>1688813201</td>\n",
       "      <td>540888690000</td>\n",
       "      <td>130064384</td>\n",
       "      <td>325685310</td>\n",
       "      <td>255950244</td>\n",
       "      <td>41947136</td>\n",
       "      <td>0</td>\n",
       "      <td>1</td>\n",
       "    </tr>\n",
       "    <tr>\n",
       "      <th>79</th>\n",
       "      <td>db-master</td>\n",
       "      <td>1688813209</td>\n",
       "      <td>42234457000</td>\n",
       "      <td>752672768</td>\n",
       "      <td>49094368</td>\n",
       "      <td>301702278</td>\n",
       "      <td>590016512</td>\n",
       "      <td>5902336</td>\n",
       "      <td>1</td>\n",
       "    </tr>\n",
       "    <tr>\n",
       "      <th>...</th>\n",
       "      <td>...</td>\n",
       "      <td>...</td>\n",
       "      <td>...</td>\n",
       "      <td>...</td>\n",
       "      <td>...</td>\n",
       "      <td>...</td>\n",
       "      <td>...</td>\n",
       "      <td>...</td>\n",
       "      <td>...</td>\n",
       "    </tr>\n",
       "    <tr>\n",
       "      <th>390</th>\n",
       "      <td>backend</td>\n",
       "      <td>1688813826</td>\n",
       "      <td>874285921000</td>\n",
       "      <td>138723328</td>\n",
       "      <td>685488919</td>\n",
       "      <td>538514947</td>\n",
       "      <td>41947136</td>\n",
       "      <td>0</td>\n",
       "      <td>1000</td>\n",
       "    </tr>\n",
       "    <tr>\n",
       "      <th>394</th>\n",
       "      <td>db-master</td>\n",
       "      <td>1688813833</td>\n",
       "      <td>84281973000</td>\n",
       "      <td>753156096</td>\n",
       "      <td>103923115</td>\n",
       "      <td>623963051</td>\n",
       "      <td>590016512</td>\n",
       "      <td>8777728</td>\n",
       "      <td>1000</td>\n",
       "    </tr>\n",
       "    <tr>\n",
       "      <th>395</th>\n",
       "      <td>backend</td>\n",
       "      <td>1688813835</td>\n",
       "      <td>877752242000</td>\n",
       "      <td>137826304</td>\n",
       "      <td>685832288</td>\n",
       "      <td>538723763</td>\n",
       "      <td>41947136</td>\n",
       "      <td>0</td>\n",
       "      <td>1000</td>\n",
       "    </tr>\n",
       "    <tr>\n",
       "      <th>399</th>\n",
       "      <td>db-master</td>\n",
       "      <td>1688813843</td>\n",
       "      <td>84958855000</td>\n",
       "      <td>753156096</td>\n",
       "      <td>104706374</td>\n",
       "      <td>628659480</td>\n",
       "      <td>590016512</td>\n",
       "      <td>8818688</td>\n",
       "      <td>1000</td>\n",
       "    </tr>\n",
       "    <tr>\n",
       "      <th>400</th>\n",
       "      <td>backend</td>\n",
       "      <td>1688813845</td>\n",
       "      <td>883498863000</td>\n",
       "      <td>137113600</td>\n",
       "      <td>690982915</td>\n",
       "      <td>542847122</td>\n",
       "      <td>41947136</td>\n",
       "      <td>0</td>\n",
       "      <td>1000</td>\n",
       "    </tr>\n",
       "  </tbody>\n",
       "</table>\n",
       "<p>99 rows × 9 columns</p>\n",
       "</div>"
      ],
      "text/plain": [
       "          name   Timestamp           cpu        ram  net_rx_bytes  \\\n",
       "69   db-master  1688813188   41618165000  752668672      48418505   \n",
       "70     backend  1688813190  536699157000  130052096     323673419   \n",
       "74   db-master  1688813199   41934669000  752672768      48767145   \n",
       "75     backend  1688813201  540888690000  130064384     325685310   \n",
       "79   db-master  1688813209   42234457000  752672768      49094368   \n",
       "..         ...         ...           ...        ...           ...   \n",
       "390    backend  1688813826  874285921000  138723328     685488919   \n",
       "394  db-master  1688813833   84281973000  753156096     103923115   \n",
       "395    backend  1688813835  877752242000  137826304     685832288   \n",
       "399  db-master  1688813843   84958855000  753156096     104706374   \n",
       "400    backend  1688813845  883498863000  137113600     690982915   \n",
       "\n",
       "     net_tx_bytes  disk_read  disk_write  User Count  \n",
       "69      298110555  590016512     5820416           1  \n",
       "70      254360898   41947136           0           1  \n",
       "74      300135455  590016512     5861376           1  \n",
       "75      255950244   41947136           0           1  \n",
       "79      301702278  590016512     5902336           1  \n",
       "..            ...        ...         ...         ...  \n",
       "390     538514947   41947136           0        1000  \n",
       "394     623963051  590016512     8777728        1000  \n",
       "395     538723763   41947136           0        1000  \n",
       "399     628659480  590016512     8818688        1000  \n",
       "400     542847122   41947136           0        1000  \n",
       "\n",
       "[99 rows x 9 columns]"
      ]
     },
     "execution_count": 17,
     "metadata": {},
     "output_type": "execute_result"
    }
   ],
   "source": [
    "docker_stats_df"
   ]
  },
  {
   "cell_type": "code",
   "execution_count": 18,
   "metadata": {},
   "outputs": [
    {
     "data": {
      "text/html": [
       "<div>\n",
       "<style scoped>\n",
       "    .dataframe tbody tr th:only-of-type {\n",
       "        vertical-align: middle;\n",
       "    }\n",
       "\n",
       "    .dataframe tbody tr th {\n",
       "        vertical-align: top;\n",
       "    }\n",
       "\n",
       "    .dataframe thead th {\n",
       "        text-align: right;\n",
       "    }\n",
       "</style>\n",
       "<table border=\"1\" class=\"dataframe\">\n",
       "  <thead>\n",
       "    <tr style=\"text-align: right;\">\n",
       "      <th></th>\n",
       "      <th>Timestamp</th>\n",
       "      <th>User Count</th>\n",
       "      <th>Requests/s</th>\n",
       "      <th>50%</th>\n",
       "      <th>95%</th>\n",
       "      <th>Total Request Count</th>\n",
       "    </tr>\n",
       "  </thead>\n",
       "  <tbody>\n",
       "    <tr>\n",
       "      <th>86896</th>\n",
       "      <td>1688813186</td>\n",
       "      <td>1</td>\n",
       "      <td>49.9</td>\n",
       "      <td>5.0</td>\n",
       "      <td>47.0</td>\n",
       "      <td>3111</td>\n",
       "    </tr>\n",
       "    <tr>\n",
       "      <th>90030</th>\n",
       "      <td>1688813187</td>\n",
       "      <td>1</td>\n",
       "      <td>50.1</td>\n",
       "      <td>5.0</td>\n",
       "      <td>47.0</td>\n",
       "      <td>3159</td>\n",
       "    </tr>\n",
       "    <tr>\n",
       "      <th>93220</th>\n",
       "      <td>1688813188</td>\n",
       "      <td>1</td>\n",
       "      <td>49.6</td>\n",
       "      <td>5.0</td>\n",
       "      <td>47.0</td>\n",
       "      <td>3216</td>\n",
       "    </tr>\n",
       "    <tr>\n",
       "      <th>96467</th>\n",
       "      <td>1688813189</td>\n",
       "      <td>1</td>\n",
       "      <td>49.1</td>\n",
       "      <td>5.0</td>\n",
       "      <td>47.0</td>\n",
       "      <td>3273</td>\n",
       "    </tr>\n",
       "    <tr>\n",
       "      <th>99766</th>\n",
       "      <td>1688813190</td>\n",
       "      <td>1</td>\n",
       "      <td>48.8</td>\n",
       "      <td>5.0</td>\n",
       "      <td>47.0</td>\n",
       "      <td>3327</td>\n",
       "    </tr>\n",
       "    <tr>\n",
       "      <th>...</th>\n",
       "      <td>...</td>\n",
       "      <td>...</td>\n",
       "      <td>...</td>\n",
       "      <td>...</td>\n",
       "      <td>...</td>\n",
       "      <td>...</td>\n",
       "    </tr>\n",
       "    <tr>\n",
       "      <th>8398728</th>\n",
       "      <td>1688813827</td>\n",
       "      <td>1000</td>\n",
       "      <td>127.7</td>\n",
       "      <td>9300.0</td>\n",
       "      <td>12000.0</td>\n",
       "      <td>90045</td>\n",
       "    </tr>\n",
       "    <tr>\n",
       "      <th>8466978</th>\n",
       "      <td>1688813832</td>\n",
       "      <td>1000</td>\n",
       "      <td>127.7</td>\n",
       "      <td>12000.0</td>\n",
       "      <td>12000.0</td>\n",
       "      <td>90045</td>\n",
       "    </tr>\n",
       "    <tr>\n",
       "      <th>8535353</th>\n",
       "      <td>1688813836</td>\n",
       "      <td>1000</td>\n",
       "      <td>102.5</td>\n",
       "      <td>9000.0</td>\n",
       "      <td>12000.0</td>\n",
       "      <td>90257</td>\n",
       "    </tr>\n",
       "    <tr>\n",
       "      <th>8604271</th>\n",
       "      <td>1688813840</td>\n",
       "      <td>1000</td>\n",
       "      <td>21.2</td>\n",
       "      <td>9400.0</td>\n",
       "      <td>12000.0</td>\n",
       "      <td>91250</td>\n",
       "    </tr>\n",
       "    <tr>\n",
       "      <th>8673189</th>\n",
       "      <td>1688813845</td>\n",
       "      <td>1000</td>\n",
       "      <td>21.2</td>\n",
       "      <td>12000.0</td>\n",
       "      <td>12000.0</td>\n",
       "      <td>91250</td>\n",
       "    </tr>\n",
       "  </tbody>\n",
       "</table>\n",
       "<p>218 rows × 6 columns</p>\n",
       "</div>"
      ],
      "text/plain": [
       "          Timestamp  User Count  Requests/s      50%      95%  \\\n",
       "86896    1688813186           1        49.9      5.0     47.0   \n",
       "90030    1688813187           1        50.1      5.0     47.0   \n",
       "93220    1688813188           1        49.6      5.0     47.0   \n",
       "96467    1688813189           1        49.1      5.0     47.0   \n",
       "99766    1688813190           1        48.8      5.0     47.0   \n",
       "...             ...         ...         ...      ...      ...   \n",
       "8398728  1688813827        1000       127.7   9300.0  12000.0   \n",
       "8466978  1688813832        1000       127.7  12000.0  12000.0   \n",
       "8535353  1688813836        1000       102.5   9000.0  12000.0   \n",
       "8604271  1688813840        1000        21.2   9400.0  12000.0   \n",
       "8673189  1688813845        1000        21.2  12000.0  12000.0   \n",
       "\n",
       "         Total Request Count  \n",
       "86896                   3111  \n",
       "90030                   3159  \n",
       "93220                   3216  \n",
       "96467                   3273  \n",
       "99766                   3327  \n",
       "...                      ...  \n",
       "8398728                90045  \n",
       "8466978                90045  \n",
       "8535353                90257  \n",
       "8604271                91250  \n",
       "8673189                91250  \n",
       "\n",
       "[218 rows x 6 columns]"
      ]
     },
     "execution_count": 18,
     "metadata": {},
     "output_type": "execute_result"
    }
   ],
   "source": [
    "load_test_stats_df"
   ]
  },
  {
   "attachments": {},
   "cell_type": "markdown",
   "metadata": {},
   "source": [
    "# 4. Save processed datasets"
   ]
  },
  {
   "cell_type": "code",
   "execution_count": 19,
   "metadata": {},
   "outputs": [],
   "source": [
    "load_test_stats_df.to_csv('processed_data/load_test_stats.csv', index=False)\n",
    "docker_stats_df.to_csv('processed_data/docker_stats.csv', index=False)"
   ]
  },
  {
   "attachments": {},
   "cell_type": "markdown",
   "metadata": {},
   "source": [
    "# 5. Plotting"
   ]
  },
  {
   "cell_type": "code",
   "execution_count": 20,
   "metadata": {},
   "outputs": [],
   "source": [
    "def plot2(df, column, title, category_col, sharey=True, logy=False):\n",
    "    df = df.rename(columns={column: title})\n",
    "\n",
    "    plot = sns.catplot(\n",
    "        data=df, kind=\"box\",\n",
    "        x=category_col, y=title, hue=category_col, col=\"User Count\",\n",
    "        sharey=sharey\n",
    "    )\n",
    "\n",
    "    [ax.grid(axis='y') for ax in plot.axes.flatten()]\n",
    "    if logy:\n",
    "        [ax.set_yscale('log') for ax in plot.axes.flatten()]\n",
    "\n",
    "    return plot"
   ]
  },
  {
   "cell_type": "code",
   "execution_count": 26,
   "metadata": {},
   "outputs": [],
   "source": [
    "docker_stats_df = docker_stats_df.sort_values('name')"
   ]
  },
  {
   "cell_type": "code",
   "execution_count": 27,
   "metadata": {},
   "outputs": [
    {
     "data": {
      "text/plain": [
       "<seaborn.axisgrid.FacetGrid at 0x317c3d150>"
      ]
     },
     "execution_count": 27,
     "metadata": {},
     "output_type": "execute_result"
    },
    {
     "data": {
      "image/png": "[encoded data removed]",
      "text/plain": [
       "<Figure size 2000x500 with 4 Axes>"
      ]
     },
     "metadata": {},
     "output_type": "display_data"
    },
    {
     "data": {
      "image/png": "[encoded data removed]",
      "text/plain": [
       "<Figure size 2000x500 with 4 Axes>"
      ]
     },
     "metadata": {},
     "output_type": "display_data"
    },
    {
     "data": {
      "image/png": "[encoded data removed]",
      "text/plain": [
       "<Figure size 2000x500 with 4 Axes>"
      ]
     },
     "metadata": {},
     "output_type": "display_data"
    },
    {
     "data": {
      "image/png": "[encoded data removed]",
      "text/plain": [
       "<Figure size 2000x500 with 4 Axes>"
      ]
     },
     "metadata": {},
     "output_type": "display_data"
    }
   ],
   "source": [
    "plot2(docker_stats_df, 'cpu', 'CPU Usage', 'name', sharey=True, logy=True)\n",
    "plot2(docker_stats_df, 'ram', 'Memory Usage', 'name', sharey=True, logy=True)\n",
    "plot2(docker_stats_df, 'disk_read', 'Disk Read', 'name', sharey=True, logy=True)\n",
    "plot2(docker_stats_df, 'net_tx_bytes', 'Network IO', 'name', sharey=True, logy=True)"
   ]
  },
  {
   "cell_type": "code",
   "execution_count": 22,
   "metadata": {},
   "outputs": [],
   "source": [
    "load_test_stats_df['name'] = 'master only'"
   ]
  },
  {
   "cell_type": "code",
   "execution_count": 25,
   "metadata": {},
   "outputs": [
    {
     "data": {
      "text/plain": [
       "<seaborn.axisgrid.FacetGrid at 0x48a4d2e90>"
      ]
     },
     "execution_count": 25,
     "metadata": {},
     "output_type": "execute_result"
    },
    {
     "data": {
      "image/png": "[encoded data removed]",
      "text/plain": [
       "<Figure size 2000x500 with 4 Axes>"
      ]
     },
     "metadata": {},
     "output_type": "display_data"
    },
    {
     "data": {
      "image/png": "[encoded data removed]",
      "text/plain": [
       "<Figure size 2000x500 with 4 Axes>"
      ]
     },
     "metadata": {},
     "output_type": "display_data"
    },
    {
     "data": {
      "image/png": "[encoded data removed]",
      "text/plain": [
       "<Figure size 2000x500 with 4 Axes>"
      ]
     },
     "metadata": {},
     "output_type": "display_data"
    }
   ],
   "source": [
    "plot2(load_test_stats_df, 'Requests/s', 'Requests/s', 'name', sharey=True, logy=True)\n",
    "plot2(load_test_stats_df, '50%', '50%', 'name', sharey=True, logy=True)\n",
    "plot2(load_test_stats_df, '95%', '95%', 'name', sharey=True, logy=True)"
   ]
  },
  {
   "cell_type": "code",
   "execution_count": null,
   "metadata": {},
   "outputs": [],
   "source": []
  }
 ],
 "metadata": {
  "kernelspec": {
   "display_name": "Python 3",
   "language": "python",
   "name": "python3"
  },
  "language_info": {
   "codemirror_mode": {
    "name": "ipython",
    "version": 3
   },
   "file_extension": ".py",
   "mimetype": "text/x-python",
   "name": "python",
   "nbconvert_exporter": "python",
   "pygments_lexer": "ipython3",
   "version": "3.10.9"
  },
  "orig_nbformat": 4
 },
 "nbformat": 4,
 "nbformat_minor": 2
}
