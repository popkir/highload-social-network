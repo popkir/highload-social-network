{
 "cells": [
  {
   "cell_type": "code",
   "execution_count": 11,
   "metadata": {},
   "outputs": [],
   "source": [
    "import pandas as pd\n",
    "import urllib.parse\n",
    "import os"
   ]
  },
  {
   "cell_type": "code",
   "execution_count": 17,
   "metadata": {},
   "outputs": [],
   "source": [
    "csv_path = 'loadtest_stats_history.csv'\n",
    "parquet_dir_path = 'loadtest_stats_history'\n",
    "\n",
    "if not os.path.isdir(parquet_dir_path): os.mkdir(parquet_dir_path)\n",
    "\n",
    "def df_to_parquet(df, target_dir, chunk_size=1000000, **parquet_wargs):\n",
    "    \"\"\"Writes pandas DataFrame to parquet format with pyarrow.\n",
    "\n",
    "    Args:\n",
    "        df: DataFrame\n",
    "        target_dir: local directory where parquet files are written to\n",
    "        chunk_size: number of rows stored in one chunk of parquet file. Defaults to 1000000.\n",
    "    \"\"\"    \n",
    "    for i in range(0, len(df), chunk_size):\n",
    "        print(i)\n",
    "        slc = df.iloc[i : i + chunk_size]\n",
    "        chunk = int(i/chunk_size)\n",
    "        fname = os.path.join(target_dir, f\"part_{chunk:04d}.parquet.gzip\")\n",
    "        slc.to_parquet(fname, engine=\"pyarrow\", compression='gzip', **parquet_wargs)"
   ]
  },
  {
   "cell_type": "code",
   "execution_count": 3,
   "metadata": {},
   "outputs": [],
   "source": [
    "df = pd.read_csv(csv_path)"
   ]
  },
  {
   "cell_type": "code",
   "execution_count": 4,
   "metadata": {},
   "outputs": [],
   "source": [
    "df['is_agg'] = df['Name'].str.startswith('Aggregated')\n",
    "df['is_user_get'] = df['Name'].str.startswith('/user/get/')\n",
    "df['is_user_search'] = df['Name'].str.startswith('/user/search')"
   ]
  },
  {
   "cell_type": "code",
   "execution_count": 5,
   "metadata": {},
   "outputs": [],
   "source": [
    "df['op_type'] = df.apply(lambda x: 'agg' if x['is_agg'] else 'get' if x['is_user_get'] else 'search' if x['is_user_search'] else None, axis=1)"
   ]
  },
  {
   "cell_type": "code",
   "execution_count": 6,
   "metadata": {},
   "outputs": [
    {
     "data": {
      "text/plain": [
       "get       4532846\n",
       "search    4208899\n",
       "agg           350\n",
       "Name: op_type, dtype: int64"
      ]
     },
     "execution_count": 6,
     "metadata": {},
     "output_type": "execute_result"
    }
   ],
   "source": [
    "df['op_type'].value_counts(dropna=False)"
   ]
  },
  {
   "cell_type": "code",
   "execution_count": 7,
   "metadata": {},
   "outputs": [],
   "source": [
    "df.loc[df.is_user_get, 'get_id'] = df.loc[df.is_user_get, 'Name'].str.slice(10)"
   ]
  },
  {
   "cell_type": "code",
   "execution_count": 8,
   "metadata": {},
   "outputs": [],
   "source": [
    "df.loc[df.is_user_search, 'search_fname'] = df.loc[df.is_user_search, 'Name'].str.slice(13).str.split('&').apply(lambda x: x[0])\n",
    "df.loc[df.is_user_search, 'search_fname'] = df.loc[df.is_user_search, 'search_fname'].str.split('=').apply(lambda x: urllib.parse.unquote(x[1]))"
   ]
  },
  {
   "cell_type": "code",
   "execution_count": 9,
   "metadata": {},
   "outputs": [],
   "source": [
    "df.loc[df.is_user_search, 'search_lname'] = df.loc[df.is_user_search, 'Name'].str.slice(13).str.split('&').apply(lambda x: x[1])\n",
    "df.loc[df.is_user_search, 'search_lname'] = df.loc[df.is_user_search, 'search_lname'].str.split('=').apply(lambda x: urllib.parse.unquote(x[1]))"
   ]
  },
  {
   "cell_type": "code",
   "execution_count": 10,
   "metadata": {},
   "outputs": [],
   "source": [
    "df.drop(columns=['Name'], inplace=True)"
   ]
  },
  {
   "cell_type": "code",
   "execution_count": 15,
   "metadata": {},
   "outputs": [
    {
     "data": {
      "text/html": [
       "<div>\n",
       "<style scoped>\n",
       "    .dataframe tbody tr th:only-of-type {\n",
       "        vertical-align: middle;\n",
       "    }\n",
       "\n",
       "    .dataframe tbody tr th {\n",
       "        vertical-align: top;\n",
       "    }\n",
       "\n",
       "    .dataframe thead th {\n",
       "        text-align: right;\n",
       "    }\n",
       "</style>\n",
       "<table border=\"1\" class=\"dataframe\">\n",
       "  <thead>\n",
       "    <tr style=\"text-align: right;\">\n",
       "      <th></th>\n",
       "      <th></th>\n",
       "      <th>Timestamp</th>\n",
       "    </tr>\n",
       "    <tr>\n",
       "      <th>User Count</th>\n",
       "      <th>op_type</th>\n",
       "      <th></th>\n",
       "    </tr>\n",
       "  </thead>\n",
       "  <tbody>\n",
       "    <tr>\n",
       "      <th rowspan=\"3\" valign=\"top\">0</th>\n",
       "      <th>agg</th>\n",
       "      <td>1</td>\n",
       "    </tr>\n",
       "    <tr>\n",
       "      <th>get</th>\n",
       "      <td>36435</td>\n",
       "    </tr>\n",
       "    <tr>\n",
       "      <th>search</th>\n",
       "      <td>32470</td>\n",
       "    </tr>\n",
       "    <tr>\n",
       "      <th rowspan=\"3\" valign=\"top\">1</th>\n",
       "      <th>agg</th>\n",
       "      <td>153</td>\n",
       "    </tr>\n",
       "    <tr>\n",
       "      <th>get</th>\n",
       "      <td>326390</td>\n",
       "    </tr>\n",
       "    <tr>\n",
       "      <th>search</th>\n",
       "      <td>315804</td>\n",
       "    </tr>\n",
       "    <tr>\n",
       "      <th rowspan=\"3\" valign=\"top\">10</th>\n",
       "      <th>agg</th>\n",
       "      <td>91</td>\n",
       "    </tr>\n",
       "    <tr>\n",
       "      <th>get</th>\n",
       "      <td>1159075</td>\n",
       "    </tr>\n",
       "    <tr>\n",
       "      <th>search</th>\n",
       "      <td>1111547</td>\n",
       "    </tr>\n",
       "    <tr>\n",
       "      <th rowspan=\"3\" valign=\"top\">100</th>\n",
       "      <th>agg</th>\n",
       "      <td>60</td>\n",
       "    </tr>\n",
       "    <tr>\n",
       "      <th>get</th>\n",
       "      <td>1516055</td>\n",
       "    </tr>\n",
       "    <tr>\n",
       "      <th>search</th>\n",
       "      <td>1401534</td>\n",
       "    </tr>\n",
       "    <tr>\n",
       "      <th rowspan=\"3\" valign=\"top\">1000</th>\n",
       "      <th>agg</th>\n",
       "      <td>45</td>\n",
       "    </tr>\n",
       "    <tr>\n",
       "      <th>get</th>\n",
       "      <td>1494891</td>\n",
       "    </tr>\n",
       "    <tr>\n",
       "      <th>search</th>\n",
       "      <td>1347544</td>\n",
       "    </tr>\n",
       "  </tbody>\n",
       "</table>\n",
       "</div>"
      ],
      "text/plain": [
       "                    Timestamp\n",
       "User Count op_type           \n",
       "0          agg              1\n",
       "           get          36435\n",
       "           search       32470\n",
       "1          agg            153\n",
       "           get         326390\n",
       "           search      315804\n",
       "10         agg             91\n",
       "           get        1159075\n",
       "           search     1111547\n",
       "100        agg             60\n",
       "           get        1516055\n",
       "           search     1401534\n",
       "1000       agg             45\n",
       "           get        1494891\n",
       "           search     1347544"
      ]
     },
     "execution_count": 15,
     "metadata": {},
     "output_type": "execute_result"
    }
   ],
   "source": [
    "df.groupby(['User Count', 'op_type'], dropna=False)[['Timestamp']].count()"
   ]
  },
  {
   "cell_type": "code",
   "execution_count": 18,
   "metadata": {},
   "outputs": [
    {
     "name": "stdout",
     "output_type": "stream",
     "text": [
      "0\n",
      "1000000\n",
      "2000000\n",
      "3000000\n",
      "4000000\n",
      "5000000\n",
      "6000000\n",
      "7000000\n",
      "8000000\n"
     ]
    }
   ],
   "source": [
    "df_to_parquet(df, parquet_dir_path)"
   ]
  },
  {
   "cell_type": "code",
   "execution_count": null,
   "metadata": {},
   "outputs": [],
   "source": []
  }
 ],
 "metadata": {
  "kernelspec": {
   "display_name": "Python 3",
   "language": "python",
   "name": "python3"
  },
  "language_info": {
   "codemirror_mode": {
    "name": "ipython",
    "version": 3
   },
   "file_extension": ".py",
   "mimetype": "text/x-python",
   "name": "python",
   "nbconvert_exporter": "python",
   "pygments_lexer": "ipython3",
   "version": "3.10.9"
  },
  "orig_nbformat": 4
 },
 "nbformat": 4,
 "nbformat_minor": 2
}
