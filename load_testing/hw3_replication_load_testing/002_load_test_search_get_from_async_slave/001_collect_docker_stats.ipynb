{
 "cells": [
  {
   "cell_type": "code",
   "execution_count": null,
   "metadata": {},
   "outputs": [],
   "source": [
    "import docker\n",
    "import json\n",
    "\n",
    "docker_client = docker.DockerClient(base_url='unix:///var/run/docker.sock')"
   ]
  },
  {
   "cell_type": "code",
   "execution_count": null,
   "metadata": {},
   "outputs": [],
   "source": [
    "data_list = []"
   ]
  },
  {
   "cell_type": "code",
   "execution_count": null,
   "metadata": {},
   "outputs": [],
   "source": [
    "docker_client.containers.list()"
   ]
  },
  {
   "cell_type": "code",
   "execution_count": null,
   "metadata": {},
   "outputs": [],
   "source": [
    "## Interrupt this cell MANUALLY once the load test is complete!\n",
    "\n",
    "while True:\n",
    "    # unix_time = time.time()\n",
    "    \n",
    "    # print(unix_time)\n",
    "    data_row = []\n",
    "    for containers in docker_client.containers.list():\n",
    "        data_row.append(containers.stats(decode=None, stream = False))\n",
    "    \n",
    "    data_list.append(data_row)\n",
    "    \n",
    "    # time.sleep(interval_seconds)"
   ]
  },
  {
   "cell_type": "code",
   "execution_count": null,
   "metadata": {},
   "outputs": [],
   "source": [
    "len(data_list)"
   ]
  },
  {
   "cell_type": "code",
   "execution_count": null,
   "metadata": {},
   "outputs": [],
   "source": [
    "flat_data_list = [x for row in data_list for x in row]\n",
    "len(flat_data_list)"
   ]
  },
  {
   "cell_type": "code",
   "execution_count": null,
   "metadata": {},
   "outputs": [],
   "source": [
    "output_fpath = 'docker_stats.json'\n",
    "\n",
    "with open(output_fpath, 'w') as f:\n",
    "    json.dump(flat_data_list, f)"
   ]
  },
  {
   "cell_type": "code",
   "execution_count": null,
   "metadata": {},
   "outputs": [],
   "source": []
  }
 ],
 "metadata": {
  "kernelspec": {
   "display_name": "Python 3",
   "language": "python",
   "name": "python3"
  },
  "language_info": {
   "codemirror_mode": {
    "name": "ipython",
    "version": 3
   },
   "file_extension": ".py",
   "mimetype": "text/x-python",
   "name": "python",
   "nbconvert_exporter": "python",
   "pygments_lexer": "ipython3",
   "version": "3.10.9"
  },
  "orig_nbformat": 4
 },
 "nbformat": 4,
 "nbformat_minor": 2
}
